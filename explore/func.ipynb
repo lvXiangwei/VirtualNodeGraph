{
 "cells": [
  {
   "cell_type": "code",
   "execution_count": 1,
   "metadata": {},
   "outputs": [],
   "source": [
    "import torch"
   ]
  },
  {
   "cell_type": "code",
   "execution_count": 8,
   "metadata": {},
   "outputs": [
    {
     "data": {
      "text/plain": [
       "tensor([[0., 0., 0.],\n",
       "        [1., 1., 1.],\n",
       "        [2., 2., 2.]])"
      ]
     },
     "execution_count": 8,
     "metadata": {},
     "output_type": "execute_result"
    }
   ],
   "source": [
    "vx = torch.arange(3).reshape(-1, 1) * torch.ones(3, 3)\n",
    "vx"
   ]
  },
  {
   "cell_type": "code",
   "execution_count": 10,
   "metadata": {},
   "outputs": [
    {
     "data": {
      "text/plain": [
       "tensor([[0., 0., 0.],\n",
       "        [2., 2., 2.],\n",
       "        [1., 1., 1.],\n",
       "        [1., 1., 1.]])"
      ]
     },
     "execution_count": 10,
     "metadata": {},
     "output_type": "execute_result"
    }
   ],
   "source": [
    "index = torch.Tensor([0, 2, 1, 1]).long()\n",
    "select_vns = torch.index_select(vx, 0, index)\n",
    "select_vns"
   ]
  },
  {
   "cell_type": "code",
   "execution_count": null,
   "metadata": {},
   "outputs": [],
   "source": [
    "for i in range(num_parts):\n",
    "    for j in range(num_parts):\n",
    "        if i == j:\n",
    "            continue\n",
    "        # ipdb.set_trace()\n",
    "        start1, end1 = partptr[i], partptr[i+1]\n",
    "        start2, end2 = partptr[j], partptr[j+1]\n",
    "        # all_idx = torch.cat([torch.arange(start1, end1), torch.arange(start2, end2)])\n",
    "        part1_idx = torch.arange(start1, end1)\n",
    "        part2_idx = torch.arange(start2, end2)\n",
    "        nnz = adj.index_select(0, part1_idx).index_select(1, part2_idx).nnz()\n",
    "        if nnz != 0:\n",
    "            new_row += [i+N]\n",
    "            new_col += [j+N]\n",
    "            cnt += 1\n",
    "t2 = time.time()"
   ]
  }
 ],
 "metadata": {
  "kernelspec": {
   "display_name": "graphtrans",
   "language": "python",
   "name": "python3"
  },
  "language_info": {
   "codemirror_mode": {
    "name": "ipython",
    "version": 3
   },
   "file_extension": ".py",
   "mimetype": "text/x-python",
   "name": "python",
   "nbconvert_exporter": "python",
   "pygments_lexer": "ipython3",
   "version": "3.8.18"
  }
 },
 "nbformat": 4,
 "nbformat_minor": 2
}
